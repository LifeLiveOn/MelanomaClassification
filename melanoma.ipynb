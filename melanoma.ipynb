{
 "cells": [
  {
   "cell_type": "code",
   "execution_count": 1,
   "metadata": {},
   "outputs": [
    {
     "name": "stderr",
     "output_type": "stream",
     "text": [
      "b:\\pythonProjects\\MelanomaClassification\\.venv\\lib\\site-packages\\tqdm\\auto.py:21: TqdmWarning: IProgress not found. Please update jupyter and ipywidgets. See https://ipywidgets.readthedocs.io/en/stable/user_install.html\n",
      "  from .autonotebook import tqdm as notebook_tqdm\n",
      "b:\\pythonProjects\\MelanomaClassification\\.venv\\lib\\site-packages\\albumentations\\__init__.py:24: UserWarning: A new version of Albumentations is available: 1.4.21 (you have 1.4.20). Upgrade using: pip install -U albumentations. To disable automatic update checks, set the environment variable NO_ALBUMENTATIONS_UPDATE to 1.\n",
      "  check_for_updates()\n"
     ]
    }
   ],
   "source": [
    "import os\n",
    "import numpy as np\n",
    "import pandas as pd\n",
    "import cv2\n",
    "import matplotlib.pyplot as plt\n",
    "\n",
    "import torch\n",
    "import torch.nn as nn\n",
    "import torch.optim as optim\n",
    "from torch.optim.lr_scheduler import CosineAnnealingWarmRestarts\n",
    "from torch.utils.data import DataLoader, WeightedRandomSampler\n",
    "from torchvision import transforms\n",
    "from sklearn.metrics import roc_auc_score, average_precision_score, f1_score\n",
    "\n",
    "from efficientnet_pytorch import EfficientNet\n",
    "import albumentations as A\n",
    "from albumentations.pytorch import ToTensorV2\n",
    "from tqdm import tqdm\n",
    "\n",
    "# Custom DataLoader (Assuming you have this defined)\n",
    "from DataLoader import Data_Loader, ImageDataset"
   ]
  },
  {
   "cell_type": "code",
   "execution_count": 2,
   "metadata": {},
   "outputs": [
    {
     "data": {
      "text/html": [
       "<div>\n",
       "<style scoped>\n",
       "    .dataframe tbody tr th:only-of-type {\n",
       "        vertical-align: middle;\n",
       "    }\n",
       "\n",
       "    .dataframe tbody tr th {\n",
       "        vertical-align: top;\n",
       "    }\n",
       "\n",
       "    .dataframe thead th {\n",
       "        text-align: right;\n",
       "    }\n",
       "</style>\n",
       "<table border=\"1\" class=\"dataframe\">\n",
       "  <thead>\n",
       "    <tr style=\"text-align: right;\">\n",
       "      <th></th>\n",
       "      <th>image_name</th>\n",
       "      <th>patient_id</th>\n",
       "      <th>sex</th>\n",
       "      <th>age_approx</th>\n",
       "      <th>anatom_site_general_challenge</th>\n",
       "      <th>diagnosis</th>\n",
       "      <th>benign_malignant</th>\n",
       "      <th>target</th>\n",
       "    </tr>\n",
       "  </thead>\n",
       "  <tbody>\n",
       "    <tr>\n",
       "      <th>0</th>\n",
       "      <td>ISIC_2637011</td>\n",
       "      <td>IP_7279968</td>\n",
       "      <td>male</td>\n",
       "      <td>45.0</td>\n",
       "      <td>head/neck</td>\n",
       "      <td>unknown</td>\n",
       "      <td>benign</td>\n",
       "      <td>0</td>\n",
       "    </tr>\n",
       "    <tr>\n",
       "      <th>1</th>\n",
       "      <td>ISIC_0015719</td>\n",
       "      <td>IP_3075186</td>\n",
       "      <td>female</td>\n",
       "      <td>45.0</td>\n",
       "      <td>upper extremity</td>\n",
       "      <td>unknown</td>\n",
       "      <td>benign</td>\n",
       "      <td>0</td>\n",
       "    </tr>\n",
       "    <tr>\n",
       "      <th>2</th>\n",
       "      <td>ISIC_0052212</td>\n",
       "      <td>IP_2842074</td>\n",
       "      <td>female</td>\n",
       "      <td>50.0</td>\n",
       "      <td>lower extremity</td>\n",
       "      <td>nevus</td>\n",
       "      <td>benign</td>\n",
       "      <td>0</td>\n",
       "    </tr>\n",
       "    <tr>\n",
       "      <th>3</th>\n",
       "      <td>ISIC_0068279</td>\n",
       "      <td>IP_6890425</td>\n",
       "      <td>female</td>\n",
       "      <td>45.0</td>\n",
       "      <td>head/neck</td>\n",
       "      <td>unknown</td>\n",
       "      <td>benign</td>\n",
       "      <td>0</td>\n",
       "    </tr>\n",
       "    <tr>\n",
       "      <th>4</th>\n",
       "      <td>ISIC_0074268</td>\n",
       "      <td>IP_8723313</td>\n",
       "      <td>female</td>\n",
       "      <td>55.0</td>\n",
       "      <td>upper extremity</td>\n",
       "      <td>unknown</td>\n",
       "      <td>benign</td>\n",
       "      <td>0</td>\n",
       "    </tr>\n",
       "  </tbody>\n",
       "</table>\n",
       "</div>"
      ],
      "text/plain": [
       "     image_name  patient_id     sex  age_approx anatom_site_general_challenge  \\\n",
       "0  ISIC_2637011  IP_7279968    male        45.0                     head/neck   \n",
       "1  ISIC_0015719  IP_3075186  female        45.0               upper extremity   \n",
       "2  ISIC_0052212  IP_2842074  female        50.0               lower extremity   \n",
       "3  ISIC_0068279  IP_6890425  female        45.0                     head/neck   \n",
       "4  ISIC_0074268  IP_8723313  female        55.0               upper extremity   \n",
       "\n",
       "  diagnosis benign_malignant  target  \n",
       "0   unknown           benign       0  \n",
       "1   unknown           benign       0  \n",
       "2     nevus           benign       0  \n",
       "3   unknown           benign       0  \n",
       "4   unknown           benign       0  "
      ]
     },
     "execution_count": 2,
     "metadata": {},
     "output_type": "execute_result"
    }
   ],
   "source": [
    "train_df = pd.read_csv('data/train.csv')  \n",
    "train_df = train_df.drop(['tfrecord','width','height'],axis=1)\n",
    "train_df.head()"
   ]
  },
  {
   "cell_type": "code",
   "execution_count": 3,
   "metadata": {},
   "outputs": [
    {
     "data": {
      "text/plain": [
       "(33126, 8)"
      ]
     },
     "execution_count": 3,
     "metadata": {},
     "output_type": "execute_result"
    }
   ],
   "source": [
    "train_df.shape"
   ]
  },
  {
   "cell_type": "code",
   "execution_count": 4,
   "metadata": {},
   "outputs": [],
   "source": [
    "from sklearn import model_selection\n",
    "\n",
    "\n",
    "df = train_df.sample(frac=1).reset_index(drop=True) #shuffles the entire dataset randomly.\n",
    "df['kfold'] = -1 #adds a new column 'kfold' to the dataframe and initializes all values to -1.\n",
    "y = train_df.target.values\n",
    "kf = model_selection.StratifiedKFold(n_splits=5,shuffle=True,random_state=32) #creates a StratifiedKFold object with 5 splits.\n",
    "\n",
    "for fold,(x,y) in enumerate(kf.split(X=df,y=y)):\n",
    "    df.loc[y,'kfold'] = fold\n",
    "df.to_csv('train_fold_tpu.csv',index=False)"
   ]
  },
  {
   "cell_type": "code",
   "execution_count": 2,
   "metadata": {},
   "outputs": [],
   "source": [
    "df = pd.read_csv('train_fold_tpu.csv')\n"
   ]
  },
  {
   "cell_type": "code",
   "execution_count": 3,
   "metadata": {},
   "outputs": [],
   "source": [
    "from efficientnet_pytorch import EfficientNet \n",
    "\n",
    "class EfficientNetClassifier(nn.Module):\n",
    "    def __init__(self, model_version='b4', num_classes=1, dropout_rate=0.3):\n",
    "        super(EfficientNetClassifier, self).__init__()\n",
    "        \n",
    "        model_name = f'efficientnet-{model_version}'\n",
    "        # Instance of the EfficientNet model with pre-trained weights\n",
    "        self.feature_extractor = EfficientNet.from_pretrained(model_name)\n",
    "        \n",
    "        # Get the number of input features from the last layer of EfficientNet\n",
    "        num_features = self.feature_extractor._fc.in_features\n",
    "        \n",
    "        self.classifier = nn.Sequential(\n",
    "            nn.Dropout(0.5),  # Increased dropout\n",
    "            nn.Linear(num_features, 512),\n",
    "            nn.BatchNorm1d(512),\n",
    "            nn.ReLU(),\n",
    "            nn.Dropout(0.5),\n",
    "            nn.Linear(512, 256),\n",
    "            nn.BatchNorm1d(256),\n",
    "            nn.ReLU(),\n",
    "            nn.Dropout(0.5),  # Increased dropout\n",
    "            nn.Linear(256, num_classes)\n",
    "        )\n",
    "        \n",
    "    def forward(self, images):\n",
    "        batch_size = images.shape[0]\n",
    "        \n",
    "        # Extract features using the EfficientNet model\n",
    "        features = self.feature_extractor.extract_features(images)\n",
    "        \n",
    "        # Pool and reshape features\n",
    "        pooled_features = nn.functional.adaptive_avg_pool2d(features, 1).reshape(batch_size, -1)\n",
    "        \n",
    "        # Pass pooled features through the classifier\n",
    "        output = self.classifier(pooled_features)\n",
    "        \n",
    "        return output  # Return logits directly"
   ]
  },
  {
   "cell_type": "code",
   "execution_count": 4,
   "metadata": {},
   "outputs": [
    {
     "name": "stdout",
     "output_type": "stream",
     "text": [
      "Loaded pretrained weights for efficientnet-b4\n"
     ]
    }
   ],
   "source": [
    "model = EfficientNetClassifier(model_version='b4', num_classes=1, dropout_rate=0.5)\n",
    "\n",
    "\n",
    "class EarlyStopping:\n",
    "    def __init__(self, patience=7, mode=\"min\", delta=0):\n",
    "        self.patience = patience\n",
    "        self.counter = 0\n",
    "        self.mode = mode\n",
    "        self.best_score = None\n",
    "        self.early_stop = False\n",
    "        self.delta = delta\n",
    "\n",
    "    def __call__(self, score):\n",
    "        if self.best_score is None:\n",
    "            self.best_score = score\n",
    "        elif (self.mode == \"min\" and score > self.best_score - self.delta) or \\\n",
    "             (self.mode == \"max\" and score < self.best_score + self.delta):\n",
    "            self.counter += 1\n",
    "            if self.counter >= self.patience:\n",
    "                self.early_stop = True\n",
    "        else:\n",
    "            self.best_score = score\n",
    "            self.counter = 0\n",
    "        return self.early_stop\n",
    "\n",
    "# Configuration Parameters\n",
    "CONFIG = {\n",
    "    'normalization_mean': (0.485, 0.456, 0.406),\n",
    "    'normalization_std': (0.229, 0.224, 0.225),\n",
    "    'image_size': (384, 384),\n",
    "    'batch_size': 28,\n",
    "    'num_epochs': 3,\n",
    "    'learning_rate': 3e-5,\n",
    "    'weight_decay': 1e-4,\n",
    "    'early_stopping_patience': 5,\n",
    "}\n",
    "\n",
    "# Define Focal Loss function\n",
    "class FocalLoss(nn.Module):\n",
    "    def __init__(self, alpha=1.5, gamma=2.0, reduction='mean'):\n",
    "        super(FocalLoss, self).__init__()\n",
    "        self.alpha = alpha\n",
    "        self.gamma = gamma\n",
    "        self.reduction = reduction\n",
    "\n",
    "    def forward(self, inputs, targets):\n",
    "        BCE_loss = nn.BCEWithLogitsLoss(reduction='none')(inputs, targets)\n",
    "        pt = torch.exp(-BCE_loss)\n",
    "        F_loss = self.alpha * (1 - pt) ** self.gamma * BCE_loss\n",
    "        \n",
    "        if self.reduction == 'mean':\n",
    "            return F_loss.mean()\n",
    "        elif self.reduction == 'sum':\n",
    "            return F_loss.sum()\n",
    "        else:\n",
    "            return F_loss"
   ]
  },
  {
   "cell_type": "code",
   "execution_count": 5,
   "metadata": {},
   "outputs": [],
   "source": [
    "# Training epoch function with AMP and debug for batch size\n",
    "def train_epoch(model, dataloader, criterion, optimizer, device, scaler):\n",
    "    model.train()\n",
    "    total_loss = 0\n",
    "    predictions = []\n",
    "    targets = []\n",
    "\n",
    "    for batch_idx, (data, labels) in enumerate(tqdm(dataloader)):\n",
    "        # Print batch size for debugging\n",
    "        # print(f\"Training Batch {batch_idx} - Batch size: {data.shape[0]}\")\n",
    "        \n",
    "        data, labels = data.to(device), labels.to(device)\n",
    "        \n",
    "        optimizer.zero_grad()\n",
    "        \n",
    "        # Use AMP for mixed precision training\n",
    "        with torch.amp.autocast(\"cuda\"):\n",
    "            outputs = model(data)\n",
    "            loss = criterion(outputs, labels.unsqueeze(1))\n",
    "        \n",
    "        # Backward pass with AMP scaler\n",
    "        scaler.scale(loss).backward()\n",
    "        scaler.step(optimizer)\n",
    "        scaler.update()\n",
    "\n",
    "        total_loss += loss.item() * data.shape[0]\n",
    "        prob_outputs = torch.sigmoid(outputs).detach().cpu().numpy()\n",
    "        predictions.extend(prob_outputs.flatten())\n",
    "        targets.extend(labels.cpu().numpy())\n",
    "        \n",
    "    return total_loss / len(dataloader.dataset), predictions, targets\n",
    "\n",
    "# Validation epoch function with AMP and debug for batch size\n",
    "def validate_epoch(model, dataloader, criterion, device, scaler):\n",
    "    model.eval()\n",
    "    total_loss = 0\n",
    "    predictions = []\n",
    "    targets = []\n",
    "    \n",
    "    with torch.no_grad():\n",
    "        for batch_idx, (data, labels) in enumerate(tqdm(dataloader)):\n",
    "            # Print batch size for debugging\n",
    "            # print(f\"Validation Batch {batch_idx} - Batch size: {data.shape[0]}\")\n",
    "            \n",
    "            data, labels = data.to(device), labels.to(device)\n",
    "            \n",
    "            # Use AMP for mixed precision inference\n",
    "            with torch.amp.autocast('cuda'):\n",
    "                outputs = model(data)\n",
    "                loss = criterion(outputs, labels.unsqueeze(1))\n",
    "            \n",
    "            total_loss += loss.item() * data.shape[0]\n",
    "            prob_outputs = torch.sigmoid(outputs).detach().cpu().numpy()\n",
    "            predictions.extend(prob_outputs.flatten())\n",
    "            targets.extend(labels.cpu().numpy())\n",
    "    \n",
    "    return total_loss / len(dataloader.dataset), predictions, targets"
   ]
  },
  {
   "cell_type": "code",
   "execution_count": 6,
   "metadata": {},
   "outputs": [],
   "source": [
    "def get_train_transforms():\n",
    "    return A.Compose([\n",
    "        A.Normalize(mean=CONFIG['normalization_mean'], std=CONFIG['normalization_std'], max_pixel_value=255.0),\n",
    "        A.ShiftScaleRotate(shift_limit=0.1, scale_limit=0.2, rotate_limit=30, p=0.7),\n",
    "        A.HorizontalFlip(p=0.5),\n",
    "        A.VerticalFlip(p=0.5),\n",
    "        A.RandomBrightnessContrast(brightness_limit=0.2, contrast_limit=0.2, p=0.75),\n",
    "        A.CLAHE(clip_limit=4.0, p=0.7),\n",
    "        ToTensorV2(),\n",
    "    ])\n",
    "\n",
    "def get_valid_transforms():\n",
    "    return A.Compose([\n",
    "        A.Normalize(mean=CONFIG['normalization_mean'], std=CONFIG['normalization_std'], max_pixel_value=255.0),\n",
    "        ToTensorV2(),\n",
    "    ])\n",
    "\n",
    "# Modify your optimizer and scheduler here\n",
    "def train_model(model, train_fold, df):\n",
    "    device = torch.device(\"cuda\" if torch.cuda.is_available() else \"cpu\")\n",
    "    # Load data transformations\n",
    "    train_transforms = get_train_transforms()\n",
    "    valid_transforms = get_valid_transforms()\n",
    "    \n",
    "    # Prepare training and validation datasets from specified folds\n",
    "    image_directory = 'data/train'\n",
    "    train_df = df[df.kfold != train_fold].reset_index(drop=True)\n",
    "    valid_df = df[df.kfold == train_fold].reset_index(drop=True)\n",
    "\n",
    "    train_dataset = Data_Loader(image_directory, train_df.image_name.tolist(), train_df.target.values, train_transforms).dataset\n",
    "    valid_dataset = Data_Loader(image_directory, valid_df.image_name.tolist(), valid_df.target.values, valid_transforms).dataset\n",
    "\n",
    "    # WeightedRandomSampler for handling class imbalance\n",
    "    class_sample_counts = train_df['target'].value_counts().sort_index().values\n",
    "    class_weights = 1. / torch.tensor(class_sample_counts, dtype=torch.float)\n",
    "    sample_weights = class_weights[train_df['target'].values]\n",
    "    weighted_sampler = WeightedRandomSampler(weights=sample_weights, num_samples=len(sample_weights), replacement=True)\n",
    "\n",
    "    # DataLoader with WeightedRandomSampler for training\n",
    "    train_loader = torch.utils.data.DataLoader(\n",
    "        train_dataset, num_workers=4, pin_memory=True, batch_size=CONFIG['batch_size'], sampler=weighted_sampler, drop_last=True)\n",
    "    valid_loader = torch.utils.data.DataLoader(\n",
    "        valid_dataset, num_workers=4, pin_memory=True, batch_size=CONFIG['batch_size'], shuffle=False,drop_last=True)\n",
    "    \n",
    "    model.to(device)\n",
    "    loss_criterion = FocalLoss(alpha=0.5, gamma=2.0).to(device)\n",
    "\n",
    "    # Use AdamW optimizer with weight decay for better generalization\n",
    "    optimizer = optim.AdamW(model.parameters(), lr=CONFIG['learning_rate'], weight_decay=CONFIG['weight_decay'])\n",
    "\n",
    "    # Scheduler: CosineAnnealingWarmRestarts or ReduceLROnPlateau\n",
    "    scheduler = CosineAnnealingWarmRestarts(optimizer, T_0=10, T_mult=2, eta_min=1e-6)\n",
    "\n",
    "    # Initialize AMP scaler\n",
    "    scaler = torch.amp.GradScaler('cuda')\n",
    "\n",
    "    best_valid_pr_auc = 0.0\n",
    "    best_model = None\n",
    "    no_improve_epochs = 0\n",
    "\n",
    "    for epoch in range(CONFIG['num_epochs']):\n",
    "        # Training phase\n",
    "        model.train()\n",
    "        train_loss, train_predictions, train_targets = train_epoch(model, train_loader, loss_criterion, optimizer, device, scaler)\n",
    "        \n",
    "        # Validation phase\n",
    "        model.eval()\n",
    "        valid_loss, valid_predictions, valid_targets = validate_epoch(model, valid_loader, loss_criterion, device, scaler)\n",
    "        \n",
    "        # Calculate PR AUC scores\n",
    "        train_pr_auc = average_precision_score(train_targets, train_predictions)\n",
    "        valid_pr_auc = average_precision_score(valid_targets, valid_predictions)\n",
    "        train_f1 = f1_score(train_targets, np.round(train_predictions), pos_label=1, zero_division=0)\n",
    "        valid_f1 = f1_score(valid_targets, np.round(valid_predictions), pos_label=1, zero_division=0)\n",
    "        print(f\"Train F1-Score: {train_f1:.4f}\")\n",
    "        print(f\"Valid F1-Score: {valid_f1:.4f}\")\n",
    "\n",
    "        print(f\"Epoch {epoch+1}/{CONFIG['num_epochs']}: Train Loss: {train_loss:.4f}, Train PR AUC: {train_pr_auc:.4f}, Valid Loss: {valid_loss:.4f}, Valid PR AUC: {valid_pr_auc:.4f}\")\n",
    "\n",
    "        # Update learning rate scheduler\n",
    "        scheduler.step()  # If using CosineAnnealingWarmRestarts\n",
    "        # scheduler.step(valid_pr_auc)  # If using ReduceLROnPlateau, use validation PR AUC to trigger adjustments\n",
    "        \n",
    "        # Save the best model based on validation PR AUC\n",
    "        if valid_pr_auc > best_valid_pr_auc:\n",
    "            best_valid_pr_auc = valid_pr_auc\n",
    "            best_model = model.state_dict().copy()\n",
    "            no_improve_epochs = 0\n",
    "            print(\"New best model saved based on validation PR AUC\")\n",
    "        else:\n",
    "            no_improve_epochs += 1\n",
    "        \n",
    "        # Early stopping condition\n",
    "        if no_improve_epochs >= CONFIG['early_stopping_patience']:\n",
    "            print(f\"Early stopping triggered after {epoch+1} epochs with no improvement in PR AUC\")\n",
    "            break\n",
    "\n",
    "        torch.cuda.empty_cache()\n",
    "    \n",
    "    model.load_state_dict(best_model)\n",
    "    return model, best_model, valid_f1\n",
    "\n"
   ]
  },
  {
   "cell_type": "code",
   "execution_count": 7,
   "metadata": {},
   "outputs": [
    {
     "name": "stderr",
     "output_type": "stream",
     "text": [
      "100%|██████████| 946/946 [08:01<00:00,  1.97it/s]\n",
      "100%|██████████| 236/236 [00:47<00:00,  4.97it/s]\n"
     ]
    },
    {
     "name": "stdout",
     "output_type": "stream",
     "text": [
      "Train F1-Score: 0.9635\n",
      "Valid F1-Score: 0.9867\n",
      "Epoch 1/3: Train Loss: 0.0129, Train PR AUC: 0.9953, Valid Loss: 0.0003, Valid PR AUC: 0.9998\n",
      "New best model saved based on validation PR AUC\n"
     ]
    },
    {
     "name": "stderr",
     "output_type": "stream",
     "text": [
      "100%|██████████| 946/946 [08:19<00:00,  1.89it/s]\n",
      "100%|██████████| 236/236 [00:45<00:00,  5.19it/s]\n"
     ]
    },
    {
     "name": "stdout",
     "output_type": "stream",
     "text": [
      "Train F1-Score: 0.9974\n",
      "Valid F1-Score: 1.0000\n",
      "Epoch 2/3: Train Loss: 0.0017, Train PR AUC: 0.9999, Valid Loss: 0.0001, Valid PR AUC: 1.0000\n",
      "New best model saved based on validation PR AUC\n"
     ]
    },
    {
     "name": "stderr",
     "output_type": "stream",
     "text": [
      "100%|██████████| 946/946 [08:11<00:00,  1.92it/s]\n",
      "100%|██████████| 236/236 [00:47<00:00,  5.02it/s]\n"
     ]
    },
    {
     "name": "stdout",
     "output_type": "stream",
     "text": [
      "Train F1-Score: 0.9987\n",
      "Valid F1-Score: 1.0000\n",
      "Epoch 3/3: Train Loss: 0.0008, Train PR AUC: 1.0000, Valid Loss: 0.0001, Valid PR AUC: 1.0000\n",
      "New best model saved based on validation PR AUC\n"
     ]
    },
    {
     "name": "stderr",
     "output_type": "stream",
     "text": [
      "100%|██████████| 946/946 [08:18<00:00,  1.90it/s]\n",
      "100%|██████████| 236/236 [00:45<00:00,  5.15it/s]\n"
     ]
    },
    {
     "name": "stdout",
     "output_type": "stream",
     "text": [
      "Train F1-Score: 0.9993\n",
      "Valid F1-Score: 1.0000\n",
      "Epoch 1/3: Train Loss: 0.0005, Train PR AUC: 1.0000, Valid Loss: 0.0000, Valid PR AUC: 1.0000\n",
      "New best model saved based on validation PR AUC\n"
     ]
    },
    {
     "name": "stderr",
     "output_type": "stream",
     "text": [
      "100%|██████████| 946/946 [08:10<00:00,  1.93it/s]\n",
      "100%|██████████| 236/236 [00:46<00:00,  5.06it/s]\n"
     ]
    },
    {
     "name": "stdout",
     "output_type": "stream",
     "text": [
      "Train F1-Score: 0.9996\n",
      "Valid F1-Score: 0.9917\n",
      "Epoch 2/3: Train Loss: 0.0002, Train PR AUC: 1.0000, Valid Loss: 0.0001, Valid PR AUC: 1.0000\n"
     ]
    },
    {
     "name": "stderr",
     "output_type": "stream",
     "text": [
      "100%|██████████| 946/946 [08:22<00:00,  1.88it/s]\n",
      "100%|██████████| 236/236 [00:45<00:00,  5.21it/s]\n"
     ]
    },
    {
     "name": "stdout",
     "output_type": "stream",
     "text": [
      "Train F1-Score: 0.9998\n",
      "Valid F1-Score: 0.9959\n",
      "Epoch 3/3: Train Loss: 0.0001, Train PR AUC: 1.0000, Valid Loss: 0.0000, Valid PR AUC: 1.0000\n"
     ]
    },
    {
     "name": "stderr",
     "output_type": "stream",
     "text": [
      "100%|██████████| 946/946 [08:03<00:00,  1.96it/s]\n",
      "100%|██████████| 236/236 [00:45<00:00,  5.21it/s]\n"
     ]
    },
    {
     "name": "stdout",
     "output_type": "stream",
     "text": [
      "Train F1-Score: 0.9998\n",
      "Valid F1-Score: 0.9954\n",
      "Epoch 1/3: Train Loss: 0.0001, Train PR AUC: 1.0000, Valid Loss: 0.0001, Valid PR AUC: 1.0000\n",
      "New best model saved based on validation PR AUC\n"
     ]
    },
    {
     "name": "stderr",
     "output_type": "stream",
     "text": [
      "100%|██████████| 946/946 [08:02<00:00,  1.96it/s]\n",
      "100%|██████████| 236/236 [00:45<00:00,  5.23it/s]\n"
     ]
    },
    {
     "name": "stdout",
     "output_type": "stream",
     "text": [
      "Train F1-Score: 0.9998\n",
      "Valid F1-Score: 0.9954\n",
      "Epoch 2/3: Train Loss: 0.0001, Train PR AUC: 1.0000, Valid Loss: 0.0001, Valid PR AUC: 1.0000\n"
     ]
    },
    {
     "name": "stderr",
     "output_type": "stream",
     "text": [
      "100%|██████████| 946/946 [08:03<00:00,  1.96it/s]\n",
      "100%|██████████| 236/236 [00:44<00:00,  5.25it/s]\n"
     ]
    },
    {
     "name": "stdout",
     "output_type": "stream",
     "text": [
      "Train F1-Score: 1.0000\n",
      "Valid F1-Score: 0.9954\n",
      "Epoch 3/3: Train Loss: 0.0000, Train PR AUC: 1.0000, Valid Loss: 0.0000, Valid PR AUC: 1.0000\n",
      "New best model saved based on validation PR AUC\n"
     ]
    },
    {
     "name": "stderr",
     "output_type": "stream",
     "text": [
      "100%|██████████| 946/946 [08:04<00:00,  1.95it/s]\n",
      "100%|██████████| 236/236 [00:44<00:00,  5.25it/s]\n"
     ]
    },
    {
     "name": "stdout",
     "output_type": "stream",
     "text": [
      "Train F1-Score: 0.9999\n",
      "Valid F1-Score: 1.0000\n",
      "Epoch 1/3: Train Loss: 0.0000, Train PR AUC: 1.0000, Valid Loss: 0.0000, Valid PR AUC: 1.0000\n",
      "New best model saved based on validation PR AUC\n"
     ]
    },
    {
     "name": "stderr",
     "output_type": "stream",
     "text": [
      "100%|██████████| 946/946 [07:58<00:00,  1.98it/s]\n",
      "100%|██████████| 236/236 [00:44<00:00,  5.25it/s]\n"
     ]
    },
    {
     "name": "stdout",
     "output_type": "stream",
     "text": [
      "Train F1-Score: 0.9998\n",
      "Valid F1-Score: 0.9961\n",
      "Epoch 2/3: Train Loss: 0.0000, Train PR AUC: 1.0000, Valid Loss: 0.0004, Valid PR AUC: 0.9946\n"
     ]
    },
    {
     "name": "stderr",
     "output_type": "stream",
     "text": [
      "100%|██████████| 946/946 [08:00<00:00,  1.97it/s]\n",
      "100%|██████████| 236/236 [00:45<00:00,  5.24it/s]\n"
     ]
    },
    {
     "name": "stdout",
     "output_type": "stream",
     "text": [
      "Train F1-Score: 1.0000\n",
      "Valid F1-Score: 1.0000\n",
      "Epoch 3/3: Train Loss: 0.0000, Train PR AUC: 1.0000, Valid Loss: 0.0000, Valid PR AUC: 1.0000\n"
     ]
    },
    {
     "name": "stderr",
     "output_type": "stream",
     "text": [
      "100%|██████████| 946/946 [07:57<00:00,  1.98it/s]\n",
      "100%|██████████| 236/236 [00:44<00:00,  5.28it/s]\n"
     ]
    },
    {
     "name": "stdout",
     "output_type": "stream",
     "text": [
      "Train F1-Score: 1.0000\n",
      "Valid F1-Score: 1.0000\n",
      "Epoch 1/3: Train Loss: 0.0000, Train PR AUC: 1.0000, Valid Loss: 0.0000, Valid PR AUC: 1.0000\n",
      "New best model saved based on validation PR AUC\n"
     ]
    },
    {
     "name": "stderr",
     "output_type": "stream",
     "text": [
      "100%|██████████| 946/946 [08:12<00:00,  1.92it/s]\n",
      "100%|██████████| 236/236 [00:47<00:00,  4.95it/s]\n"
     ]
    },
    {
     "name": "stdout",
     "output_type": "stream",
     "text": [
      "Train F1-Score: 0.9997\n",
      "Valid F1-Score: 1.0000\n",
      "Epoch 2/3: Train Loss: 0.0003, Train PR AUC: 0.9998, Valid Loss: 0.0000, Valid PR AUC: 1.0000\n"
     ]
    },
    {
     "name": "stderr",
     "output_type": "stream",
     "text": [
      "  8%|▊         | 78/946 [00:53<09:55,  1.46it/s] \n"
     ]
    },
    {
     "ename": "RuntimeError",
     "evalue": "Caught RuntimeError in DataLoader worker process 2.\nOriginal Traceback (most recent call last):\n  File \"b:\\pythonProjects\\MelanomaClassification\\.venv\\lib\\site-packages\\torch\\utils\\data\\_utils\\worker.py\", line 351, in _worker_loop\n    data = fetcher.fetch(index)  # type: ignore[possibly-undefined]\n  File \"b:\\pythonProjects\\MelanomaClassification\\.venv\\lib\\site-packages\\torch\\utils\\data\\_utils\\fetch.py\", line 55, in fetch\n    return self.collate_fn(data)\n  File \"b:\\pythonProjects\\MelanomaClassification\\.venv\\lib\\site-packages\\torch\\utils\\data\\_utils\\collate.py\", line 398, in default_collate\n    return collate(batch, collate_fn_map=default_collate_fn_map)\n  File \"b:\\pythonProjects\\MelanomaClassification\\.venv\\lib\\site-packages\\torch\\utils\\data\\_utils\\collate.py\", line 211, in collate\n    return [\n  File \"b:\\pythonProjects\\MelanomaClassification\\.venv\\lib\\site-packages\\torch\\utils\\data\\_utils\\collate.py\", line 212, in <listcomp>\n    collate(samples, collate_fn_map=collate_fn_map)\n  File \"b:\\pythonProjects\\MelanomaClassification\\.venv\\lib\\site-packages\\torch\\utils\\data\\_utils\\collate.py\", line 155, in collate\n    return collate_fn_map[elem_type](batch, collate_fn_map=collate_fn_map)\n  File \"b:\\pythonProjects\\MelanomaClassification\\.venv\\lib\\site-packages\\torch\\utils\\data\\_utils\\collate.py\", line 270, in collate_tensor_fn\n    storage = elem._typed_storage()._new_shared(numel, device=elem.device)\n  File \"b:\\pythonProjects\\MelanomaClassification\\.venv\\lib\\site-packages\\torch\\storage.py\", line 1198, in _new_shared\n    untyped_storage = torch.UntypedStorage._new_shared(\n  File \"b:\\pythonProjects\\MelanomaClassification\\.venv\\lib\\site-packages\\torch\\storage.py\", line 413, in _new_shared\n    return cls._new_using_filename_cpu(size)\nRuntimeError: Couldn't open shared file mapping: <torch_17924_998027497_38>, error code: <1455>\n",
     "output_type": "error",
     "traceback": [
      "\u001b[1;31m---------------------------------------------------------------------------\u001b[0m",
      "\u001b[1;31mRuntimeError\u001b[0m                              Traceback (most recent call last)",
      "Cell \u001b[1;32mIn[7], line 3\u001b[0m\n\u001b[0;32m      1\u001b[0m f1_arr \u001b[38;5;241m=\u001b[39m []\n\u001b[0;32m      2\u001b[0m \u001b[38;5;28;01mfor\u001b[39;00m i \u001b[38;5;129;01min\u001b[39;00m \u001b[38;5;28mrange\u001b[39m(\u001b[38;5;241m0\u001b[39m,\u001b[38;5;241m5\u001b[39m):\n\u001b[1;32m----> 3\u001b[0m     cur_model, best_model, model_f1 \u001b[38;5;241m=\u001b[39m \u001b[43mtrain_model\u001b[49m\u001b[43m(\u001b[49m\u001b[43mmodel\u001b[49m\u001b[43m,\u001b[49m\u001b[43mi\u001b[49m\u001b[43m,\u001b[49m\u001b[43mdf\u001b[49m\u001b[38;5;241;43m=\u001b[39;49m\u001b[43mdf\u001b[49m\u001b[43m)\u001b[49m\n\u001b[0;32m      4\u001b[0m     f1_arr\u001b[38;5;241m.\u001b[39mappend(model_f1)\n\u001b[0;32m      5\u001b[0m     torch\u001b[38;5;241m.\u001b[39msave(best_model,\u001b[38;5;124mf\u001b[39m\u001b[38;5;124m'\u001b[39m\u001b[38;5;124mfold\u001b[39m\u001b[38;5;132;01m{\u001b[39;00mi\u001b[38;5;132;01m}\u001b[39;00m\u001b[38;5;124m.pth\u001b[39m\u001b[38;5;124m'\u001b[39m)\n",
      "Cell \u001b[1;32mIn[6], line 64\u001b[0m, in \u001b[0;36mtrain_model\u001b[1;34m(model, train_fold, df)\u001b[0m\n\u001b[0;32m     61\u001b[0m \u001b[38;5;28;01mfor\u001b[39;00m epoch \u001b[38;5;129;01min\u001b[39;00m \u001b[38;5;28mrange\u001b[39m(CONFIG[\u001b[38;5;124m'\u001b[39m\u001b[38;5;124mnum_epochs\u001b[39m\u001b[38;5;124m'\u001b[39m]):\n\u001b[0;32m     62\u001b[0m     \u001b[38;5;66;03m# Training phase\u001b[39;00m\n\u001b[0;32m     63\u001b[0m     model\u001b[38;5;241m.\u001b[39mtrain()\n\u001b[1;32m---> 64\u001b[0m     train_loss, train_predictions, train_targets \u001b[38;5;241m=\u001b[39m \u001b[43mtrain_epoch\u001b[49m\u001b[43m(\u001b[49m\u001b[43mmodel\u001b[49m\u001b[43m,\u001b[49m\u001b[43m \u001b[49m\u001b[43mtrain_loader\u001b[49m\u001b[43m,\u001b[49m\u001b[43m \u001b[49m\u001b[43mloss_criterion\u001b[49m\u001b[43m,\u001b[49m\u001b[43m \u001b[49m\u001b[43moptimizer\u001b[49m\u001b[43m,\u001b[49m\u001b[43m \u001b[49m\u001b[43mdevice\u001b[49m\u001b[43m,\u001b[49m\u001b[43m \u001b[49m\u001b[43mscaler\u001b[49m\u001b[43m)\u001b[49m\n\u001b[0;32m     66\u001b[0m     \u001b[38;5;66;03m# Validation phase\u001b[39;00m\n\u001b[0;32m     67\u001b[0m     model\u001b[38;5;241m.\u001b[39meval()\n",
      "Cell \u001b[1;32mIn[5], line 8\u001b[0m, in \u001b[0;36mtrain_epoch\u001b[1;34m(model, dataloader, criterion, optimizer, device, scaler)\u001b[0m\n\u001b[0;32m      5\u001b[0m predictions \u001b[38;5;241m=\u001b[39m []\n\u001b[0;32m      6\u001b[0m targets \u001b[38;5;241m=\u001b[39m []\n\u001b[1;32m----> 8\u001b[0m \u001b[38;5;28;01mfor\u001b[39;00m batch_idx, (data, labels) \u001b[38;5;129;01min\u001b[39;00m \u001b[38;5;28menumerate\u001b[39m(tqdm(dataloader)):\n\u001b[0;32m      9\u001b[0m     \u001b[38;5;66;03m# Print batch size for debugging\u001b[39;00m\n\u001b[0;32m     10\u001b[0m     \u001b[38;5;66;03m# print(f\"Training Batch {batch_idx} - Batch size: {data.shape[0]}\")\u001b[39;00m\n\u001b[0;32m     12\u001b[0m     data, labels \u001b[38;5;241m=\u001b[39m data\u001b[38;5;241m.\u001b[39mto(device), labels\u001b[38;5;241m.\u001b[39mto(device)\n\u001b[0;32m     14\u001b[0m     optimizer\u001b[38;5;241m.\u001b[39mzero_grad()\n",
      "File \u001b[1;32mb:\\pythonProjects\\MelanomaClassification\\.venv\\lib\\site-packages\\tqdm\\std.py:1181\u001b[0m, in \u001b[0;36mtqdm.__iter__\u001b[1;34m(self)\u001b[0m\n\u001b[0;32m   1178\u001b[0m time \u001b[38;5;241m=\u001b[39m \u001b[38;5;28mself\u001b[39m\u001b[38;5;241m.\u001b[39m_time\n\u001b[0;32m   1180\u001b[0m \u001b[38;5;28;01mtry\u001b[39;00m:\n\u001b[1;32m-> 1181\u001b[0m     \u001b[38;5;28;01mfor\u001b[39;00m obj \u001b[38;5;129;01min\u001b[39;00m iterable:\n\u001b[0;32m   1182\u001b[0m         \u001b[38;5;28;01myield\u001b[39;00m obj\n\u001b[0;32m   1183\u001b[0m         \u001b[38;5;66;03m# Update and possibly print the progressbar.\u001b[39;00m\n\u001b[0;32m   1184\u001b[0m         \u001b[38;5;66;03m# Note: does not call self.update(1) for speed optimisation.\u001b[39;00m\n",
      "File \u001b[1;32mb:\\pythonProjects\\MelanomaClassification\\.venv\\lib\\site-packages\\torch\\utils\\data\\dataloader.py:701\u001b[0m, in \u001b[0;36m_BaseDataLoaderIter.__next__\u001b[1;34m(self)\u001b[0m\n\u001b[0;32m    698\u001b[0m \u001b[38;5;28;01mif\u001b[39;00m \u001b[38;5;28mself\u001b[39m\u001b[38;5;241m.\u001b[39m_sampler_iter \u001b[38;5;129;01mis\u001b[39;00m \u001b[38;5;28;01mNone\u001b[39;00m:\n\u001b[0;32m    699\u001b[0m     \u001b[38;5;66;03m# TODO(https://github.com/pytorch/pytorch/issues/76750)\u001b[39;00m\n\u001b[0;32m    700\u001b[0m     \u001b[38;5;28mself\u001b[39m\u001b[38;5;241m.\u001b[39m_reset()  \u001b[38;5;66;03m# type: ignore[call-arg]\u001b[39;00m\n\u001b[1;32m--> 701\u001b[0m data \u001b[38;5;241m=\u001b[39m \u001b[38;5;28;43mself\u001b[39;49m\u001b[38;5;241;43m.\u001b[39;49m\u001b[43m_next_data\u001b[49m\u001b[43m(\u001b[49m\u001b[43m)\u001b[49m\n\u001b[0;32m    702\u001b[0m \u001b[38;5;28mself\u001b[39m\u001b[38;5;241m.\u001b[39m_num_yielded \u001b[38;5;241m+\u001b[39m\u001b[38;5;241m=\u001b[39m \u001b[38;5;241m1\u001b[39m\n\u001b[0;32m    703\u001b[0m \u001b[38;5;28;01mif\u001b[39;00m (\n\u001b[0;32m    704\u001b[0m     \u001b[38;5;28mself\u001b[39m\u001b[38;5;241m.\u001b[39m_dataset_kind \u001b[38;5;241m==\u001b[39m _DatasetKind\u001b[38;5;241m.\u001b[39mIterable\n\u001b[0;32m    705\u001b[0m     \u001b[38;5;129;01mand\u001b[39;00m \u001b[38;5;28mself\u001b[39m\u001b[38;5;241m.\u001b[39m_IterableDataset_len_called \u001b[38;5;129;01mis\u001b[39;00m \u001b[38;5;129;01mnot\u001b[39;00m \u001b[38;5;28;01mNone\u001b[39;00m\n\u001b[0;32m    706\u001b[0m     \u001b[38;5;129;01mand\u001b[39;00m \u001b[38;5;28mself\u001b[39m\u001b[38;5;241m.\u001b[39m_num_yielded \u001b[38;5;241m>\u001b[39m \u001b[38;5;28mself\u001b[39m\u001b[38;5;241m.\u001b[39m_IterableDataset_len_called\n\u001b[0;32m    707\u001b[0m ):\n",
      "File \u001b[1;32mb:\\pythonProjects\\MelanomaClassification\\.venv\\lib\\site-packages\\torch\\utils\\data\\dataloader.py:1465\u001b[0m, in \u001b[0;36m_MultiProcessingDataLoaderIter._next_data\u001b[1;34m(self)\u001b[0m\n\u001b[0;32m   1463\u001b[0m \u001b[38;5;28;01melse\u001b[39;00m:\n\u001b[0;32m   1464\u001b[0m     \u001b[38;5;28;01mdel\u001b[39;00m \u001b[38;5;28mself\u001b[39m\u001b[38;5;241m.\u001b[39m_task_info[idx]\n\u001b[1;32m-> 1465\u001b[0m     \u001b[38;5;28;01mreturn\u001b[39;00m \u001b[38;5;28;43mself\u001b[39;49m\u001b[38;5;241;43m.\u001b[39;49m\u001b[43m_process_data\u001b[49m\u001b[43m(\u001b[49m\u001b[43mdata\u001b[49m\u001b[43m)\u001b[49m\n",
      "File \u001b[1;32mb:\\pythonProjects\\MelanomaClassification\\.venv\\lib\\site-packages\\torch\\utils\\data\\dataloader.py:1491\u001b[0m, in \u001b[0;36m_MultiProcessingDataLoaderIter._process_data\u001b[1;34m(self, data)\u001b[0m\n\u001b[0;32m   1489\u001b[0m \u001b[38;5;28mself\u001b[39m\u001b[38;5;241m.\u001b[39m_try_put_index()\n\u001b[0;32m   1490\u001b[0m \u001b[38;5;28;01mif\u001b[39;00m \u001b[38;5;28misinstance\u001b[39m(data, ExceptionWrapper):\n\u001b[1;32m-> 1491\u001b[0m     \u001b[43mdata\u001b[49m\u001b[38;5;241;43m.\u001b[39;49m\u001b[43mreraise\u001b[49m\u001b[43m(\u001b[49m\u001b[43m)\u001b[49m\n\u001b[0;32m   1492\u001b[0m \u001b[38;5;28;01mreturn\u001b[39;00m data\n",
      "File \u001b[1;32mb:\\pythonProjects\\MelanomaClassification\\.venv\\lib\\site-packages\\torch\\_utils.py:733\u001b[0m, in \u001b[0;36mExceptionWrapper.reraise\u001b[1;34m(self)\u001b[0m\n\u001b[0;32m    729\u001b[0m \u001b[38;5;28;01mexcept\u001b[39;00m \u001b[38;5;167;01mTypeError\u001b[39;00m:\n\u001b[0;32m    730\u001b[0m     \u001b[38;5;66;03m# If the exception takes multiple arguments, don't try to\u001b[39;00m\n\u001b[0;32m    731\u001b[0m     \u001b[38;5;66;03m# instantiate since we don't know how to\u001b[39;00m\n\u001b[0;32m    732\u001b[0m     \u001b[38;5;28;01mraise\u001b[39;00m \u001b[38;5;167;01mRuntimeError\u001b[39;00m(msg) \u001b[38;5;28;01mfrom\u001b[39;00m \u001b[38;5;28;01mNone\u001b[39;00m\n\u001b[1;32m--> 733\u001b[0m \u001b[38;5;28;01mraise\u001b[39;00m exception\n",
      "\u001b[1;31mRuntimeError\u001b[0m: Caught RuntimeError in DataLoader worker process 2.\nOriginal Traceback (most recent call last):\n  File \"b:\\pythonProjects\\MelanomaClassification\\.venv\\lib\\site-packages\\torch\\utils\\data\\_utils\\worker.py\", line 351, in _worker_loop\n    data = fetcher.fetch(index)  # type: ignore[possibly-undefined]\n  File \"b:\\pythonProjects\\MelanomaClassification\\.venv\\lib\\site-packages\\torch\\utils\\data\\_utils\\fetch.py\", line 55, in fetch\n    return self.collate_fn(data)\n  File \"b:\\pythonProjects\\MelanomaClassification\\.venv\\lib\\site-packages\\torch\\utils\\data\\_utils\\collate.py\", line 398, in default_collate\n    return collate(batch, collate_fn_map=default_collate_fn_map)\n  File \"b:\\pythonProjects\\MelanomaClassification\\.venv\\lib\\site-packages\\torch\\utils\\data\\_utils\\collate.py\", line 211, in collate\n    return [\n  File \"b:\\pythonProjects\\MelanomaClassification\\.venv\\lib\\site-packages\\torch\\utils\\data\\_utils\\collate.py\", line 212, in <listcomp>\n    collate(samples, collate_fn_map=collate_fn_map)\n  File \"b:\\pythonProjects\\MelanomaClassification\\.venv\\lib\\site-packages\\torch\\utils\\data\\_utils\\collate.py\", line 155, in collate\n    return collate_fn_map[elem_type](batch, collate_fn_map=collate_fn_map)\n  File \"b:\\pythonProjects\\MelanomaClassification\\.venv\\lib\\site-packages\\torch\\utils\\data\\_utils\\collate.py\", line 270, in collate_tensor_fn\n    storage = elem._typed_storage()._new_shared(numel, device=elem.device)\n  File \"b:\\pythonProjects\\MelanomaClassification\\.venv\\lib\\site-packages\\torch\\storage.py\", line 1198, in _new_shared\n    untyped_storage = torch.UntypedStorage._new_shared(\n  File \"b:\\pythonProjects\\MelanomaClassification\\.venv\\lib\\site-packages\\torch\\storage.py\", line 413, in _new_shared\n    return cls._new_using_filename_cpu(size)\nRuntimeError: Couldn't open shared file mapping: <torch_17924_998027497_38>, error code: <1455>\n"
     ]
    }
   ],
   "source": [
    "f1_arr = []\n",
    "for i in range(0,5):\n",
    "    cur_model, best_model, model_f1 = train_model(model,i,df=df)\n",
    "    f1_arr.append(model_f1)\n",
    "    torch.save(best_model,f'fold{i}.pth')\n",
    "average_f1_score = np.mean(f1_arr)\n",
    "print(f\"Average F1 score across different folds: {average_f1_score:.4f}\")"
   ]
  },
  {
   "cell_type": "code",
   "execution_count": 5,
   "metadata": {},
   "outputs": [],
   "source": [
    "def predict(fold, true_labels=None):\n",
    "    test_df = pd.read_csv('data/test.csv')\n",
    "    im_path = 'data/test/'\n",
    "    batch_t = 32    \n",
    "    model_path = f'effnetb4.pth' \n",
    "    \n",
    "    test_im = test_df.image_name.values.tolist()\n",
    "    test_y = np.ones(len(test_im))  # Dummy labels since this is a test set\n",
    "    \n",
    "    # Define augmentation pipeline (if needed)\n",
    "    augmentation_pipeline = A.Compose([\n",
    "        A.Resize(height=384, width=384),\n",
    "        A.Normalize(mean=(0.485, 0.456, 0.406), std=(0.229, 0.224, 0.225)),\n",
    "        ToTensorV2()\n",
    "    ])\n",
    "\n",
    "    # Create DataLoader for the test dataset\n",
    "    test_dataset = Data_Loader(im_path, test_im, test_y, augmentation_pipeline)\n",
    "    test_loader = test_dataset.get(batch_size=batch_t, shuffle=False, num_workers=6)\n",
    "    \n",
    "    print(f'Number of batches in test_loader: {len(test_loader)}')\n",
    "    \n",
    "    device = 'cuda' if torch.cuda.is_available() else 'cpu'\n",
    "    \n",
    "    # Initialize the model and load weights\n",
    "    model.load_state_dict(torch.load(model_path, weights_only=True),strict=False)\n",
    "    model.to(device)\n",
    "    model.eval()\n",
    "    \n",
    "    preds = []\n",
    "    \n",
    "    # Iterate over batches in the DataLoader\n",
    "    with torch.no_grad():  # Disable gradient calculation for inference\n",
    "        for batch_idx, (test_data, _) in enumerate(test_loader):\n",
    "            test_data = test_data.to(device)  # Move data to GPU\n",
    "            \n",
    "            out = model(test_data)  # Forward pass through the model\n",
    "            \n",
    "            preds.append(out.cpu())  # Store logits on CPU\n",
    "            \n",
    "            if batch_idx % 50 == 0:\n",
    "                print(f'Processed batch {batch_idx}')\n",
    "    \n",
    "    pred_array = np.vstack(preds).ravel()  # Combine predictions into a single array\n",
    "\n",
    "    # Convert probabilities to binary predictions based on a threshold of 0.5\n",
    "    predicted_classes = (pred_array > 0.5).astype(int)\n",
    "\n",
    "    # Calculate F1 score if true labels are provided\n",
    "    if true_labels is not None:\n",
    "        f1 = f1_score(true_labels, predicted_classes)\n",
    "        print(f\"F1 Score: {f1:.4f}\")\n",
    "        return predicted_classes, f1\n",
    "\n",
    "    return predicted_classes"
   ]
  },
  {
   "cell_type": "code",
   "execution_count": 6,
   "metadata": {},
   "outputs": [
    {
     "name": "stdout",
     "output_type": "stream",
     "text": [
      "Number of batches in test_loader: 343\n",
      "Processed batch 0\n",
      "Processed batch 50\n",
      "Processed batch 100\n",
      "Processed batch 150\n",
      "Processed batch 200\n",
      "Processed batch 250\n",
      "Processed batch 300\n"
     ]
    },
    {
     "ename": "ValueError",
     "evalue": "Must have equal len keys and value when setting with an iterable",
     "output_type": "error",
     "traceback": [
      "\u001b[1;31m---------------------------------------------------------------------------\u001b[0m",
      "\u001b[1;31mValueError\u001b[0m                                Traceback (most recent call last)",
      "Cell \u001b[1;32mIn[6], line 4\u001b[0m\n\u001b[0;32m      2\u001b[0m prediction \u001b[38;5;241m=\u001b[39m predict(\u001b[38;5;241m3\u001b[39m)\n\u001b[0;32m      3\u001b[0m submission \u001b[38;5;241m=\u001b[39m pd\u001b[38;5;241m.\u001b[39mread_csv(\u001b[38;5;124m'\u001b[39m\u001b[38;5;124mdata/sample_submission.csv\u001b[39m\u001b[38;5;124m'\u001b[39m)\n\u001b[1;32m----> 4\u001b[0m \u001b[43msubmission\u001b[49m\u001b[38;5;241;43m.\u001b[39;49m\u001b[43mloc\u001b[49m\u001b[43m[\u001b[49m\u001b[43m:\u001b[49m\u001b[43m,\u001b[49m\u001b[38;5;124;43m'\u001b[39;49m\u001b[38;5;124;43mtarget\u001b[39;49m\u001b[38;5;124;43m'\u001b[39;49m\u001b[43m]\u001b[49m \u001b[38;5;241m=\u001b[39m prediction\n\u001b[0;32m      5\u001b[0m submission\u001b[38;5;241m.\u001b[39mto_csv(\u001b[38;5;124m'\u001b[39m\u001b[38;5;124msubmission.csv\u001b[39m\u001b[38;5;124m'\u001b[39m,index\u001b[38;5;241m=\u001b[39m\u001b[38;5;28;01mFalse\u001b[39;00m)\n",
      "File \u001b[1;32mb:\\pythonProjects\\MelanomaClassification\\.venv\\lib\\site-packages\\pandas\\core\\indexing.py:911\u001b[0m, in \u001b[0;36m_LocationIndexer.__setitem__\u001b[1;34m(self, key, value)\u001b[0m\n\u001b[0;32m    908\u001b[0m \u001b[38;5;28mself\u001b[39m\u001b[38;5;241m.\u001b[39m_has_valid_setitem_indexer(key)\n\u001b[0;32m    910\u001b[0m iloc \u001b[38;5;241m=\u001b[39m \u001b[38;5;28mself\u001b[39m \u001b[38;5;28;01mif\u001b[39;00m \u001b[38;5;28mself\u001b[39m\u001b[38;5;241m.\u001b[39mname \u001b[38;5;241m==\u001b[39m \u001b[38;5;124m\"\u001b[39m\u001b[38;5;124miloc\u001b[39m\u001b[38;5;124m\"\u001b[39m \u001b[38;5;28;01melse\u001b[39;00m \u001b[38;5;28mself\u001b[39m\u001b[38;5;241m.\u001b[39mobj\u001b[38;5;241m.\u001b[39miloc\n\u001b[1;32m--> 911\u001b[0m \u001b[43miloc\u001b[49m\u001b[38;5;241;43m.\u001b[39;49m\u001b[43m_setitem_with_indexer\u001b[49m\u001b[43m(\u001b[49m\u001b[43mindexer\u001b[49m\u001b[43m,\u001b[49m\u001b[43m \u001b[49m\u001b[43mvalue\u001b[49m\u001b[43m,\u001b[49m\u001b[43m \u001b[49m\u001b[38;5;28;43mself\u001b[39;49m\u001b[38;5;241;43m.\u001b[39;49m\u001b[43mname\u001b[49m\u001b[43m)\u001b[49m\n",
      "File \u001b[1;32mb:\\pythonProjects\\MelanomaClassification\\.venv\\lib\\site-packages\\pandas\\core\\indexing.py:1942\u001b[0m, in \u001b[0;36m_iLocIndexer._setitem_with_indexer\u001b[1;34m(self, indexer, value, name)\u001b[0m\n\u001b[0;32m   1939\u001b[0m \u001b[38;5;66;03m# align and set the values\u001b[39;00m\n\u001b[0;32m   1940\u001b[0m \u001b[38;5;28;01mif\u001b[39;00m take_split_path:\n\u001b[0;32m   1941\u001b[0m     \u001b[38;5;66;03m# We have to operate column-wise\u001b[39;00m\n\u001b[1;32m-> 1942\u001b[0m     \u001b[38;5;28;43mself\u001b[39;49m\u001b[38;5;241;43m.\u001b[39;49m\u001b[43m_setitem_with_indexer_split_path\u001b[49m\u001b[43m(\u001b[49m\u001b[43mindexer\u001b[49m\u001b[43m,\u001b[49m\u001b[43m \u001b[49m\u001b[43mvalue\u001b[49m\u001b[43m,\u001b[49m\u001b[43m \u001b[49m\u001b[43mname\u001b[49m\u001b[43m)\u001b[49m\n\u001b[0;32m   1943\u001b[0m \u001b[38;5;28;01melse\u001b[39;00m:\n\u001b[0;32m   1944\u001b[0m     \u001b[38;5;28mself\u001b[39m\u001b[38;5;241m.\u001b[39m_setitem_single_block(indexer, value, name)\n",
      "File \u001b[1;32mb:\\pythonProjects\\MelanomaClassification\\.venv\\lib\\site-packages\\pandas\\core\\indexing.py:1998\u001b[0m, in \u001b[0;36m_iLocIndexer._setitem_with_indexer_split_path\u001b[1;34m(self, indexer, value, name)\u001b[0m\n\u001b[0;32m   1993\u001b[0m     \u001b[38;5;28;01mif\u001b[39;00m \u001b[38;5;28mlen\u001b[39m(value) \u001b[38;5;241m==\u001b[39m \u001b[38;5;241m1\u001b[39m \u001b[38;5;129;01mand\u001b[39;00m \u001b[38;5;129;01mnot\u001b[39;00m is_integer(info_axis):\n\u001b[0;32m   1994\u001b[0m         \u001b[38;5;66;03m# This is a case like df.iloc[:3, [1]] = [0]\u001b[39;00m\n\u001b[0;32m   1995\u001b[0m         \u001b[38;5;66;03m#  where we treat as df.iloc[:3, 1] = 0\u001b[39;00m\n\u001b[0;32m   1996\u001b[0m         \u001b[38;5;28;01mreturn\u001b[39;00m \u001b[38;5;28mself\u001b[39m\u001b[38;5;241m.\u001b[39m_setitem_with_indexer((pi, info_axis[\u001b[38;5;241m0\u001b[39m]), value[\u001b[38;5;241m0\u001b[39m])\n\u001b[1;32m-> 1998\u001b[0m     \u001b[38;5;28;01mraise\u001b[39;00m \u001b[38;5;167;01mValueError\u001b[39;00m(\n\u001b[0;32m   1999\u001b[0m         \u001b[38;5;124m\"\u001b[39m\u001b[38;5;124mMust have equal len keys and value \u001b[39m\u001b[38;5;124m\"\u001b[39m\n\u001b[0;32m   2000\u001b[0m         \u001b[38;5;124m\"\u001b[39m\u001b[38;5;124mwhen setting with an iterable\u001b[39m\u001b[38;5;124m\"\u001b[39m\n\u001b[0;32m   2001\u001b[0m     )\n\u001b[0;32m   2003\u001b[0m \u001b[38;5;28;01melif\u001b[39;00m lplane_indexer \u001b[38;5;241m==\u001b[39m \u001b[38;5;241m0\u001b[39m \u001b[38;5;129;01mand\u001b[39;00m \u001b[38;5;28mlen\u001b[39m(value) \u001b[38;5;241m==\u001b[39m \u001b[38;5;28mlen\u001b[39m(\u001b[38;5;28mself\u001b[39m\u001b[38;5;241m.\u001b[39mobj\u001b[38;5;241m.\u001b[39mindex):\n\u001b[0;32m   2004\u001b[0m     \u001b[38;5;66;03m# We get here in one case via .loc with a all-False mask\u001b[39;00m\n\u001b[0;32m   2005\u001b[0m     \u001b[38;5;28;01mpass\u001b[39;00m\n",
      "\u001b[1;31mValueError\u001b[0m: Must have equal len keys and value when setting with an iterable"
     ]
    }
   ],
   "source": [
    "from DataLoader import Data_Loader\n",
    "prediction = predict(3)\n",
    "submission = pd.read_csv('data/sample_submission.csv')\n",
    "submission.loc[:,'target'] = prediction\n",
    "submission.to_csv('submission.csv',index=False)\n"
   ]
  },
  {
   "cell_type": "code",
   "execution_count": null,
   "metadata": {},
   "outputs": [],
   "source": [
    "submission[submission['target']==1]\n",
    "submission.describe()\n"
   ]
  },
  {
   "cell_type": "code",
   "execution_count": 8,
   "metadata": {},
   "outputs": [],
   "source": [
    "import numpy as np\n",
    "import torch\n",
    "import matplotlib.pyplot as plt\n",
    "from sklearn.metrics import ConfusionMatrixDisplay, confusion_matrix, precision_score, recall_score, roc_auc_score, average_precision_score, f1_score\n",
    "\n",
    "def evaluate_model(model, valid_dataset, device, threshold=0.5):\n",
    "    model.eval()  \n",
    "    valid_predictions = []\n",
    "    valid_targets = []\n",
    "\n",
    "    with torch.no_grad():\n",
    "        for valid_data, valid_label in valid_dataset:\n",
    "            valid_data = valid_data.to(device)\n",
    "            out = model(valid_data)\n",
    "            out = torch.sigmoid(out)\n",
    "\n",
    "            valid_targets.append(valid_label.to(device))  \n",
    "            valid_predictions.append(out)\n",
    "\n",
    "    valid_predictions = torch.cat(valid_predictions).cpu()\n",
    "    valid_targets = torch.cat(valid_targets).cpu()\n",
    "\n",
    "    # Calculate ROC AUC\n",
    "    valid_auc_score = roc_auc_score(valid_targets.numpy(), valid_predictions.numpy())\n",
    "    print(f\"AUC: {valid_auc_score:.4f}\")\n",
    "\n",
    "    # Calculate Precision-Recall AUC (PR AUC)\n",
    "    valid_pr_auc_score = average_precision_score(valid_targets.numpy(), valid_predictions.numpy())\n",
    "    print(f\"PR AUC: {valid_pr_auc_score:.4f}\")\n",
    "\n",
    "    # Calculate metrics for the given threshold\n",
    "    predicted_classes = (valid_predictions > threshold).int()\n",
    "    precision = precision_score(valid_targets.numpy(), predicted_classes.numpy(), zero_division=0)\n",
    "    recall = recall_score(valid_targets.numpy(), predicted_classes.numpy(), zero_division=0)\n",
    "    f1 = f1_score(valid_targets, predicted_classes, zero_division=0)\n",
    "\n",
    "    print(f\"Threshold: {threshold:.4f}, Precision: {precision:.4f}, Recall: {recall:.4f}, F1: {f1:.4f}\")\n",
    "\n",
    "    from sklearn.metrics import precision_recall_curve\n",
    "\n",
    "    # Calculate Precision-Recall values for different thresholds for plotting\n",
    "    precisions, recalls, thresholds_pr = precision_recall_curve(valid_targets.numpy(), valid_predictions.numpy())\n",
    "\n",
    "    # Plot Precision-Recall trade-off curve\n",
    "    plt.figure(figsize=(8, 6))\n",
    "    plt.plot(thresholds_pr, precisions[:-1], label=\"Precision\", color='b')\n",
    "    plt.plot(thresholds_pr, recalls[:-1], label=\"Recall\", color='r')\n",
    "    plt.axvline(x=threshold, color='g', linestyle='--', label=f'Threshold ({threshold})')\n",
    "    plt.xlabel(\"Threshold\")\n",
    "    plt.ylabel(\"Score\")\n",
    "    plt.title(\"Precision-Recall Trade-off Curve\")\n",
    "    plt.legend(loc=\"best\")\n",
    "    plt.grid(True)\n",
    "    plt.show()\n",
    "\n",
    "    # Display Confusion Matrix at the given threshold\n",
    "    cm = confusion_matrix(valid_targets.numpy(), predicted_classes.numpy())\n",
    "\n",
    "    disp = ConfusionMatrixDisplay(confusion_matrix=cm, display_labels=[0, 1])\n",
    "    disp.plot(cmap='Blues')\n",
    "    plt.title('Confusion Matrix')\n",
    "    plt.show()\n",
    "\n",
    "    return cm"
   ]
  },
  {
   "cell_type": "code",
   "execution_count": null,
   "metadata": {},
   "outputs": [
    {
     "name": "stderr",
     "output_type": "stream",
     "text": [
      "C:\\Users\\Thanh\\AppData\\Local\\Temp\\ipykernel_18608\\314078519.py:12: FutureWarning: You are using `torch.load` with `weights_only=False` (the current default value), which uses the default pickle module implicitly. It is possible to construct malicious pickle data which will execute arbitrary code during unpickling (See https://github.com/pytorch/pytorch/blob/main/SECURITY.md#untrusted-models for more details). In a future release, the default value for `weights_only` will be flipped to `True`. This limits the functions that could be executed during unpickling. Arbitrary objects will no longer be allowed to be loaded via this mode unless they are explicitly allowlisted by the user via `torch.serialization.add_safe_globals`. We recommend you start setting `weights_only=True` for any use case where you don't have full control of the loaded file. Please open an issue on GitHub for any issues related to this experimental feature.\n",
      "  model.load_state_dict(torch.load(model_path))\n"
     ]
    },
    {
     "name": "stdout",
     "output_type": "stream",
     "text": [
      "AUC: 1.0000\n",
      "PR AUC: 1.0000\n",
      "Threshold: 0.5000, Precision: 1.0000, Recall: 1.0000, F1: 1.0000\n"
     ]
    },
    {
     "data": {
      "image/png": "[encoded data removed]",
      "text/plain": [
       "<Figure size 800x600 with 1 Axes>"
      ]
     },
     "metadata": {},
     "output_type": "display_data"
    },
    {
     "data": {
      "image/png": "[encoded data removed]",
      "text/plain": [
       "<Figure size 640x480 with 2 Axes>"
      ]
     },
     "metadata": {},
     "output_type": "display_data"
    }
   ],
   "source": [
    "from albumentations.pytorch import ToTensorV2\n",
    "import albumentations as A\n",
    "import torch\n",
    "import pandas as pd\n",
    "\n",
    "# Assuming evaluate_model and Data_Loader are defined properly\n",
    "if __name__ == \"__main__\":\n",
    "    fold_number = 1\n",
    "    \n",
    "    # Load your trained model\n",
    "    model_path = \"fold3.pth\"\n",
    "    model.load_state_dict(torch.load(model_path))\n",
    "    \n",
    "    device = 'cuda' if torch.cuda.is_available() else 'cpu'\n",
    "    model.to(device)\n",
    "\n",
    "    # Create validation dataset for generating the confusion matrix\n",
    "    image_path = 'data/train'\n",
    "    valid_df = df[df.kfold == fold_number].reset_index(drop=True)\n",
    "    \n",
    "    valid_im = valid_df.image_name.values.tolist()\n",
    "    valid_y = valid_df.target.values\n",
    "    \n",
    "    \n",
    "\n",
    "    # Validation transformations\n",
    "    valid_transpose = A.Compose([\n",
    "        A.Normalize(mean=(0.485, 0.456, 0.406), std=(0.229, 0.224, 0.225), max_pixel_value=255.0, always_apply=True),\n",
    "        ToTensorV2()\n",
    "    ])\n",
    "    \n",
    "    # Loading validation dataset\n",
    "    valid_dataset = Data_Loader(image_path, valid_im, valid_y, valid_transpose).get(batch_size=32, shuffle=False, num_workers=6)\n",
    "\n",
    "    # Generate and print confusion matrix and metrics\n",
    "    cm = evaluate_model(model, valid_dataset, device)\n"
   ]
  },
  {
   "cell_type": "markdown",
   "metadata": {},
   "source": [
    "This is testing with ISSIC 2019 images to verify the accuracy of the model"
   ]
  },
  {
   "cell_type": "code",
   "execution_count": 10,
   "metadata": {},
   "outputs": [
    {
     "name": "stderr",
     "output_type": "stream",
     "text": [
      "C:\\Users\\Thanh\\AppData\\Local\\Temp\\ipykernel_18608\\4065489312.py:9: FutureWarning: You are using `torch.load` with `weights_only=False` (the current default value), which uses the default pickle module implicitly. It is possible to construct malicious pickle data which will execute arbitrary code during unpickling (See https://github.com/pytorch/pytorch/blob/main/SECURITY.md#untrusted-models for more details). In a future release, the default value for `weights_only` will be flipped to `True`. This limits the functions that could be executed during unpickling. Arbitrary objects will no longer be allowed to be loaded via this mode unless they are explicitly allowlisted by the user via `torch.serialization.add_safe_globals`. We recommend you start setting `weights_only=True` for any use case where you don't have full control of the loaded file. Please open an issue on GitHub for any issues related to this experimental feature.\n",
      "  model.load_state_dict(torch.load(model_path))\n"
     ]
    },
    {
     "name": "stdout",
     "output_type": "stream",
     "text": [
      "Number of overlapping images: 0\n",
      "AUC: 1.0000\n",
      "PR AUC: 1.0000\n",
      "Threshold: 0.5000, Precision: 0.9996, Recall: 0.9924, F1: 0.9960\n"
     ]
    },
    {
     "data": {
      "image/png": "[encoded data removed]",
      "text/plain": [
       "<Figure size 800x600 with 1 Axes>"
      ]
     },
     "metadata": {},
     "output_type": "display_data"
    },
    {
     "data": {
      "image/png": "[encoded data removed]",
      "text/plain": [
       "<Figure size 640x480 with 2 Axes>"
      ]
     },
     "metadata": {},
     "output_type": "display_data"
    }
   ],
   "source": [
    "import torch\n",
    "import pandas as pd\n",
    "import numpy as np\n",
    "import albumentations as A\n",
    "from albumentations.pytorch import ToTensorV2\n",
    "import hashlib\n",
    "\n",
    "model_path = \"fold2.pth\"\n",
    "model.load_state_dict(torch.load(model_path))\n",
    "    \n",
    "device = 'cuda' if torch.cuda.is_available() else 'cpu'\n",
    "model.to(device)\n",
    "\n",
    "# Load the train dataset (ISIC 2020) and test dataset (ISIC 2019)\n",
    "df_train = pd.read_csv('data/train.csv')\n",
    "df_test = pd.read_csv('data/test_ISIC_2019/ISIC_2019_Training_GroundTruth.csv')\n",
    "\n",
    "# Rename and drop unnecessary columns in the test dataset\n",
    "df_test.rename(columns={\"MEL\": 'target'}, inplace=True)\n",
    "df_test.drop(columns=['NV', 'BCC', 'AK', 'BKL', 'DF', 'VASC', 'SCC', 'UNK'], inplace=True)\n",
    "\n",
    "# Identify and remove overlapping images\n",
    "# Assuming image filenames are in the 'image_name' column\n",
    "common_images = set(df_train['image_name']).intersection(set(df_test['image']))\n",
    "print(f\"Number of overlapping images: {len(common_images)}\")\n",
    "df_test_filtered = df_test[~df_test['image'].isin(common_images)]\n",
    "\n",
    "# Determine the number of samples to take\n",
    "total_samples = 5000\n",
    "positive_samples = 2500  # Number of samples with target = 1 (adjust as needed)\n",
    "negative_samples = total_samples - positive_samples\n",
    "\n",
    "# Sample positive and negative cases\n",
    "df_positive = df_test_filtered[df_test_filtered['target'] == 1].sample(n=positive_samples, random_state=90)\n",
    "df_negative = df_test_filtered[df_test_filtered['target'] == 0].sample(n=negative_samples, random_state=3)\n",
    "\n",
    "# Combine the sampled DataFrames\n",
    "df_sampled = pd.concat([df_positive, df_negative]).sample(frac=1, random_state=42).reset_index(drop=True)  # Shuffle\n",
    "\n",
    "# Prepare image and target lists\n",
    "test_im = df_sampled.image.values.tolist()\n",
    "test_target = df_sampled.target.values.tolist()\n",
    "\n",
    "# Define validation transformations\n",
    "valid_transpose = A.Compose([\n",
    "    A.Normalize(mean=(0.485, 0.456, 0.406), std=(0.229, 0.224, 0.225), max_pixel_value=255.0, always_apply=True),\n",
    "    ToTensorV2()\n",
    "])\n",
    "\n",
    "# Loading validation dataset\n",
    "test_dataset = Data_Loader('data/test_ISIC_2019/ISIC_2019_Training_Input/ISIC_2019_Training_Input', test_im, test_target, valid_transpose).get(batch_size=32, shuffle=False, num_workers=6)\n",
    "\n",
    "# Generate and print confusion matrix and metrics\n",
    "cm = evaluate_model(model, test_dataset, device)"
   ]
  },
  {
   "cell_type": "code",
   "execution_count": null,
   "metadata": {},
   "outputs": [
    {
     "name": "stdout",
     "output_type": "stream",
     "text": [
      "Total number of images: 33126\n"
     ]
    },
    {
     "name": "stderr",
     "output_type": "stream",
     "text": [
      "Loading images: 100%|██████████| 1036/1036 [02:12<00:00,  7.81it/s]\n"
     ]
    },
    {
     "name": "stdout",
     "output_type": "stream",
     "text": [
      "Stacking images...\n"
     ]
    },
    {
     "ename": "MemoryError",
     "evalue": "Unable to allocate 18.6 GiB for an array with shape (33126, 150528) and data type float32",
     "output_type": "error",
     "traceback": [
      "\u001b[1;31m---------------------------------------------------------------------------\u001b[0m",
      "\u001b[1;31mMemoryError\u001b[0m                               Traceback (most recent call last)",
      "Cell \u001b[1;32mIn[2], line 41\u001b[0m\n\u001b[0;32m     38\u001b[0m     all_targets\u001b[38;5;241m.\u001b[39mextend(targets\u001b[38;5;241m.\u001b[39mnumpy())\n\u001b[0;32m     40\u001b[0m \u001b[38;5;28mprint\u001b[39m(\u001b[38;5;124m\"\u001b[39m\u001b[38;5;124mStacking images...\u001b[39m\u001b[38;5;124m\"\u001b[39m)\n\u001b[1;32m---> 41\u001b[0m all_images \u001b[38;5;241m=\u001b[39m \u001b[43mnp\u001b[49m\u001b[38;5;241;43m.\u001b[39;49m\u001b[43mvstack\u001b[49m\u001b[43m(\u001b[49m\u001b[43mall_images\u001b[49m\u001b[43m)\u001b[49m\n\u001b[0;32m     43\u001b[0m \u001b[38;5;28mprint\u001b[39m(\u001b[38;5;124m\"\u001b[39m\u001b[38;5;124mPerforming PCA...\u001b[39m\u001b[38;5;124m\"\u001b[39m)\n\u001b[0;32m     44\u001b[0m \u001b[38;5;66;03m# Perform PCA while retaining 95% of the variance\u001b[39;00m\n",
      "File \u001b[1;32mb:\\pythonProjects\\MelanomaClassification\\.venv\\lib\\site-packages\\numpy\\_core\\shape_base.py:291\u001b[0m, in \u001b[0;36mvstack\u001b[1;34m(tup, dtype, casting)\u001b[0m\n\u001b[0;32m    289\u001b[0m \u001b[38;5;28;01mif\u001b[39;00m \u001b[38;5;129;01mnot\u001b[39;00m \u001b[38;5;28misinstance\u001b[39m(arrs, \u001b[38;5;28mtuple\u001b[39m):\n\u001b[0;32m    290\u001b[0m     arrs \u001b[38;5;241m=\u001b[39m (arrs,)\n\u001b[1;32m--> 291\u001b[0m \u001b[38;5;28;01mreturn\u001b[39;00m \u001b[43m_nx\u001b[49m\u001b[38;5;241;43m.\u001b[39;49m\u001b[43mconcatenate\u001b[49m\u001b[43m(\u001b[49m\u001b[43marrs\u001b[49m\u001b[43m,\u001b[49m\u001b[43m \u001b[49m\u001b[38;5;241;43m0\u001b[39;49m\u001b[43m,\u001b[49m\u001b[43m \u001b[49m\u001b[43mdtype\u001b[49m\u001b[38;5;241;43m=\u001b[39;49m\u001b[43mdtype\u001b[49m\u001b[43m,\u001b[49m\u001b[43m \u001b[49m\u001b[43mcasting\u001b[49m\u001b[38;5;241;43m=\u001b[39;49m\u001b[43mcasting\u001b[49m\u001b[43m)\u001b[49m\n",
      "\u001b[1;31mMemoryError\u001b[0m: Unable to allocate 18.6 GiB for an array with shape (33126, 150528) and data type float32"
     ]
    }
   ],
   "source": [
    "from sklearn.decomposition import PCA\n",
    "from torch.utils.data import DataLoader, Dataset\n",
    "import cv2\n",
    "import os\n",
    "import numpy as np\n",
    "import pandas as pd\n",
    "from tqdm import tqdm\n",
    "\n",
    "class ImageDataset2(Dataset):\n",
    "    def __init__(self, csv_file, image_directory):\n",
    "        self.data = pd.read_csv(csv_file)\n",
    "        self.image_directory = image_directory\n",
    "\n",
    "    def __len__(self):\n",
    "        return len(self.data)\n",
    "\n",
    "    def __getitem__(self, index):\n",
    "        row = self.data.iloc[index]\n",
    "        img_name = row['image_name']\n",
    "        target = row['target']\n",
    "        img_path = os.path.join(self.image_directory, img_name + \".jpg\")\n",
    "        img = cv2.imread(img_path)\n",
    "        img = cv2.cvtColor(img, cv2.COLOR_BGR2RGB)\n",
    "        img = cv2.resize(img, (224, 224))  # Resize to a consistent size\n",
    "        img_flat = img.reshape(-1).astype(np.float32) / 255.0  # Flatten and normalize to float32\n",
    "        return img_flat, target\n",
    "\n",
    "# Print total number of images\n",
    "datasetPCA = ImageDataset2('data/train.csv', 'data/train')\n",
    "print(f\"Total number of images: {len(datasetPCA)}\")\n",
    "\n",
    "dataloaderPCA = DataLoader(datasetPCA, batch_size=32, shuffle=False, num_workers=0)\n",
    "\n",
    "# Initialize PCA with n_components set to retain 95% variance\n",
    "pca = PCA(n_components=0.95)\n",
    "\n",
    "# Prepare to write results to CSV\n",
    "output_csv_path = 'pca_results.csv'\n",
    "with open(output_csv_path, 'w') as f:\n",
    "    # Write the header for the CSV file\n",
    "    f.write('PCs,target\\n')  # Adjust header as needed\n",
    "\n",
    "    for batch, targets in tqdm(dataloaderPCA, desc=\"Processing images\"):\n",
    "        # Perform PCA on the current batch\n",
    "        pca_result = pca.fit_transform(batch.numpy())\n",
    "\n",
    "        # Write PCA results and targets to CSV\n",
    "        for i in range(pca_result.shape[0]):\n",
    "            # Convert PCA result to a comma-separated string and append the target\n",
    "            row_data = ','.join(map(str, pca_result[i])) + ',' + str(targets[i].item()) + '\\n'\n",
    "            f.write(row_data)\n",
    "\n",
    "print(\"Process completed!\")"
   ]
  },
  {
   "cell_type": "code",
   "execution_count": null,
   "metadata": {},
   "outputs": [],
   "source": []
  }
 ],
 "metadata": {
  "kernelspec": {
   "display_name": ".venv",
   "language": "python",
   "name": "python3"
  },
  "language_info": {
   "codemirror_mode": {
    "name": "ipython",
    "version": 3
   },
   "file_extension": ".py",
   "mimetype": "text/x-python",
   "name": "python",
   "nbconvert_exporter": "python",
   "pygments_lexer": "ipython3",
   "version": "3.10.5"
  }
 },
 "nbformat": 4,
 "nbformat_minor": 2
}
